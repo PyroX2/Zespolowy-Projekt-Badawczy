{
 "cells": [
  {
   "cell_type": "code",
   "execution_count": 1,
   "id": "51abe222",
   "metadata": {},
   "outputs": [],
   "source": [
    "import pandas as pd\n",
    "import numpy as np"
   ]
  },
  {
   "cell_type": "code",
   "execution_count": 2,
   "id": "7a2d42c1",
   "metadata": {},
   "outputs": [],
   "source": [
    "pd.set_option('display.max_colwidth', None)\n",
    "pd.set_option('display.max_columns', None)  "
   ]
  },
  {
   "cell_type": "code",
   "execution_count": null,
   "id": "ed8ee317",
   "metadata": {},
   "outputs": [
    {
     "name": "stderr",
     "output_type": "stream",
     "text": [
      "/var/folders/n9/d4p2g98s0g56p3pmfj7kpp8w0000gn/T/ipykernel_1600/3733272646.py:1: DtypeWarning: Columns (12,13) have mixed types. Specify dtype option on import or set low_memory=False.\n",
      "  legend = pd.read_csv(\"/Users/jakub/EMBED_OpenData_NUS_Datathon_metadata_reduced.csv\")\n"
     ]
    }
   ],
   "source": [
    "legend = pd.read_csv(\"/Users/jakub/EMBED_OpenData_NUS_Datathon_metadata_reduced.csv\")"
   ]
  },
  {
   "cell_type": "code",
   "execution_count": 12,
   "id": "2458f62c",
   "metadata": {},
   "outputs": [
    {
     "data": {
      "text/plain": [
       "480081"
      ]
     },
     "execution_count": 12,
     "metadata": {},
     "output_type": "execute_result"
    }
   ],
   "source": [
    "len(legend)"
   ]
  },
  {
   "cell_type": "code",
   "execution_count": 10,
   "id": "c842c4d1",
   "metadata": {},
   "outputs": [],
   "source": [
    "legend_with_rois = legend[legend['num_roi'] >= 1]"
   ]
  },
  {
   "cell_type": "code",
   "execution_count": 5,
   "id": "b3c55fe6",
   "metadata": {},
   "outputs": [
    {
     "data": {
      "text/plain": [
       "np.int64(8473)"
      ]
     },
     "execution_count": 5,
     "metadata": {},
     "output_type": "execute_result"
    }
   ],
   "source": [
    "legend_with_rois.num_roi.sum()"
   ]
  },
  {
   "cell_type": "code",
   "execution_count": 6,
   "id": "1592f44d",
   "metadata": {},
   "outputs": [
    {
     "data": {
      "text/plain": [
       "7557"
      ]
     },
     "execution_count": 6,
     "metadata": {},
     "output_type": "execute_result"
    }
   ],
   "source": [
    "len(legend_with_rois)"
   ]
  },
  {
   "cell_type": "code",
   "execution_count": 11,
   "id": "1b8d76db",
   "metadata": {},
   "outputs": [
    {
     "data": {
      "text/html": [
       "<div>\n",
       "<style scoped>\n",
       "    .dataframe tbody tr th:only-of-type {\n",
       "        vertical-align: middle;\n",
       "    }\n",
       "\n",
       "    .dataframe tbody tr th {\n",
       "        vertical-align: top;\n",
       "    }\n",
       "\n",
       "    .dataframe thead th {\n",
       "        text-align: right;\n",
       "    }\n",
       "</style>\n",
       "<table border=\"1\" class=\"dataframe\">\n",
       "  <thead>\n",
       "    <tr style=\"text-align: right;\">\n",
       "      <th></th>\n",
       "      <th>Manufacturer</th>\n",
       "      <th>ManufacturerModelName</th>\n",
       "      <th>PatientSex</th>\n",
       "      <th>ProtocolName</th>\n",
       "      <th>SeriesDescription</th>\n",
       "      <th>SeriesNumber</th>\n",
       "      <th>SeriesTime</th>\n",
       "      <th>StudyDescription</th>\n",
       "      <th>StudyID</th>\n",
       "      <th>ViewPosition</th>\n",
       "      <th>WindowCenter</th>\n",
       "      <th>WindowWidth</th>\n",
       "      <th>VOILUTFunction</th>\n",
       "      <th>WindowCenterWidthExplanation</th>\n",
       "      <th>empi_anon</th>\n",
       "      <th>acc_anon</th>\n",
       "      <th>study_date_anon</th>\n",
       "      <th>cohort_num</th>\n",
       "      <th>ImageLateralityFinal</th>\n",
       "      <th>FinalImageType</th>\n",
       "      <th>spot_mag</th>\n",
       "      <th>pred_spot_mag_type</th>\n",
       "      <th>spot_mag_png_path</th>\n",
       "      <th>png_path</th>\n",
       "      <th>anon_dicom_path</th>\n",
       "      <th>num_roi</th>\n",
       "      <th>ROI_match_level</th>\n",
       "      <th>PNG_ROI_coords</th>\n",
       "      <th>DCM_ROI_coords</th>\n",
       "    </tr>\n",
       "  </thead>\n",
       "  <tbody>\n",
       "    <tr>\n",
       "      <th>95</th>\n",
       "      <td>HOLOGIC, Inc.</td>\n",
       "      <td>Selenia Dimensions</td>\n",
       "      <td>F</td>\n",
       "      <td>R CCNP</td>\n",
       "      <td>R CC</td>\n",
       "      <td>71100000</td>\n",
       "      <td>143714.0</td>\n",
       "      <td>MG Screen Bilat w/Tomo/CAD Stnd Protocol</td>\n",
       "      <td>MG Screening Dig</td>\n",
       "      <td>CC</td>\n",
       "      <td>2047.0</td>\n",
       "      <td>4096.0</td>\n",
       "      <td>NaN</td>\n",
       "      <td>NaN</td>\n",
       "      <td>27942877</td>\n",
       "      <td>4378856307268605</td>\n",
       "      <td>2015-04-16 00:00:00</td>\n",
       "      <td>1</td>\n",
       "      <td>R</td>\n",
       "      <td>2D</td>\n",
       "      <td>NaN</td>\n",
       "      <td>NaN</td>\n",
       "      <td>NaN</td>\n",
       "      <td>png_images/cohort_1/673a142b63ff991f901e26ecf6483aa2f4bad72a2676dd866ed1a38c/821299aae48ba91edbc49170dfb2b62c8c064212000cd1be705a4483/0b7da4b31b9275499b613b3fb890a0690fbb81e25a57cce84801bdcb.png</td>\n",
       "      <td>images/cohort_1/27942877/1.2.841.113978.3.62.1.51858730.20151011.1140957/1.2.845.113681.2750851777.1444028945.5427.5841/1.2.826.0.1.3680043.8.498.34608297224893310603161072463919077365.dcm</td>\n",
       "      <td>1</td>\n",
       "      <td>[['1']]</td>\n",
       "      <td>[[[1165, 822, 1294, 1000]]]</td>\n",
       "      <td>[[[1165, 1560, 1294, 1738]]]</td>\n",
       "    </tr>\n",
       "    <tr>\n",
       "      <th>269</th>\n",
       "      <td>HOLOGIC, Inc.</td>\n",
       "      <td>Selenia Dimensions</td>\n",
       "      <td>F</td>\n",
       "      <td>R CC ComboHD</td>\n",
       "      <td>R CC</td>\n",
       "      <td>71300000</td>\n",
       "      <td>140934.0</td>\n",
       "      <td>MG Screen Bilat w/Tomo/CAD Stnd Protocol</td>\n",
       "      <td>MG Screen Bilat</td>\n",
       "      <td>CC</td>\n",
       "      <td>2047.0</td>\n",
       "      <td>4096.0</td>\n",
       "      <td>NaN</td>\n",
       "      <td>NaN</td>\n",
       "      <td>49677506</td>\n",
       "      <td>8010398258948596</td>\n",
       "      <td>2018-08-05 00:00:00</td>\n",
       "      <td>1</td>\n",
       "      <td>R</td>\n",
       "      <td>2D</td>\n",
       "      <td>NaN</td>\n",
       "      <td>NaN</td>\n",
       "      <td>NaN</td>\n",
       "      <td>png_images/cohort_1/211816395915b6373a8d62c581282ca7ff26fb2188c45aad2496b6d3/3e442cf88f79bc821cfc5cf43a09fd7fde72dcc2fa978fb2ea490e9a/647001b80f1bb8a6a9dda874545cec882a0b5df86efac804f734723e.png</td>\n",
       "      <td>images/cohort_1/49677506/1.2.840.113971.3.61.1.58379970.20181222.1134700/1.2.849.113689.2750824503.1545287557.4658.130845/1.2.826.0.1.3680043.8.498.13280973993930913252605180204422965155.dcm</td>\n",
       "      <td>1</td>\n",
       "      <td>[['1']]</td>\n",
       "      <td>[[[2678, 16, 2931, 313]]]</td>\n",
       "      <td>[[[2678, 16, 2931, 313]]]</td>\n",
       "    </tr>\n",
       "    <tr>\n",
       "      <th>274</th>\n",
       "      <td>HOLOGIC, Inc.</td>\n",
       "      <td>Selenia Dimensions</td>\n",
       "      <td>F</td>\n",
       "      <td>R MLO ComboHD</td>\n",
       "      <td>R MLO</td>\n",
       "      <td>71300000</td>\n",
       "      <td>141247.0</td>\n",
       "      <td>MG Screen Bilat w/Tomo/CAD Stnd Protocol</td>\n",
       "      <td>MG Screen Bilat</td>\n",
       "      <td>MLO</td>\n",
       "      <td>2047.0</td>\n",
       "      <td>4096.0</td>\n",
       "      <td>NaN</td>\n",
       "      <td>NaN</td>\n",
       "      <td>49677506</td>\n",
       "      <td>8010398258948596</td>\n",
       "      <td>2018-08-05 00:00:00</td>\n",
       "      <td>1</td>\n",
       "      <td>R</td>\n",
       "      <td>2D</td>\n",
       "      <td>NaN</td>\n",
       "      <td>NaN</td>\n",
       "      <td>NaN</td>\n",
       "      <td>png_images/cohort_1/211816395915b6373a8d62c581282ca7ff26fb2188c45aad2496b6d3/3e442cf88f79bc821cfc5cf43a09fd7fde72dcc2fa978fb2ea490e9a/68d4e75ecb95e3dfbf3915f12a4eedd10fe1877a6ac8f77d0399663b.png</td>\n",
       "      <td>images/cohort_1/49677506/1.2.840.113971.3.61.1.58379970.20181222.1134700/1.2.848.113688.2750824503.1545287560.4653.130868/1.2.826.0.1.3680043.8.498.21419879400540352363681436133028226505.dcm</td>\n",
       "      <td>1</td>\n",
       "      <td>[['1']]</td>\n",
       "      <td>[[[2768, 0, 3065, 280]]]</td>\n",
       "      <td>[[[2768, 0, 3065, 280]]]</td>\n",
       "    </tr>\n",
       "    <tr>\n",
       "      <th>275</th>\n",
       "      <td>HOLOGIC, Inc.</td>\n",
       "      <td>Selenia Dimensions</td>\n",
       "      <td>F</td>\n",
       "      <td>L MLO ComboHD</td>\n",
       "      <td>L MLO C-View</td>\n",
       "      <td>71300000</td>\n",
       "      <td>141601.0</td>\n",
       "      <td>MG Screen Bilat w/Tomo/CAD Stnd Protocol</td>\n",
       "      <td>MG Screen Bilat</td>\n",
       "      <td>MLO</td>\n",
       "      <td>540.0</td>\n",
       "      <td>580.0</td>\n",
       "      <td>NaN</td>\n",
       "      <td>NaN</td>\n",
       "      <td>49677506</td>\n",
       "      <td>8010398258948596</td>\n",
       "      <td>2018-08-05 00:00:00</td>\n",
       "      <td>1</td>\n",
       "      <td>L</td>\n",
       "      <td>cview</td>\n",
       "      <td>NaN</td>\n",
       "      <td>NaN</td>\n",
       "      <td>NaN</td>\n",
       "      <td>png_images/cohort_1/211816395915b6373a8d62c581282ca7ff26fb2188c45aad2496b6d3/3e442cf88f79bc821cfc5cf43a09fd7fde72dcc2fa978fb2ea490e9a/e168e7fb321a55bbc0a0b839b0ac1da9d06626051577d24621a4685f.png</td>\n",
       "      <td>images/cohort_1/49677506/1.2.840.113971.3.61.1.58379970.20181222.1134700/1.2.848.113684.2750824503.1545287557.4658.130841.1/1.2.826.0.1.3680043.8.498.26423713590434578534969018531762460178.dcm</td>\n",
       "      <td>1</td>\n",
       "      <td>[['2']]</td>\n",
       "      <td>[[[2, 0, 666, 374]]]</td>\n",
       "      <td>[[[2, 1622, 666, 1996]]]</td>\n",
       "    </tr>\n",
       "    <tr>\n",
       "      <th>276</th>\n",
       "      <td>HOLOGIC, Inc.</td>\n",
       "      <td>Selenia Dimensions</td>\n",
       "      <td>F</td>\n",
       "      <td>L MLO ComboHD</td>\n",
       "      <td>L MLO</td>\n",
       "      <td>71300000</td>\n",
       "      <td>141601.0</td>\n",
       "      <td>MG Screen Bilat w/Tomo/CAD Stnd Protocol</td>\n",
       "      <td>MG Screen Bilat</td>\n",
       "      <td>MLO</td>\n",
       "      <td>2047.0</td>\n",
       "      <td>4096.0</td>\n",
       "      <td>NaN</td>\n",
       "      <td>NaN</td>\n",
       "      <td>49677506</td>\n",
       "      <td>8010398258948596</td>\n",
       "      <td>2018-08-05 00:00:00</td>\n",
       "      <td>1</td>\n",
       "      <td>L</td>\n",
       "      <td>2D</td>\n",
       "      <td>NaN</td>\n",
       "      <td>NaN</td>\n",
       "      <td>NaN</td>\n",
       "      <td>png_images/cohort_1/211816395915b6373a8d62c581282ca7ff26fb2188c45aad2496b6d3/3e442cf88f79bc821cfc5cf43a09fd7fde72dcc2fa978fb2ea490e9a/36203bb4d55f2b1e35865927da7af1e2fd4fe061c8973805a955cde0.png</td>\n",
       "      <td>images/cohort_1/49677506/1.2.840.113971.3.61.1.58379970.20181222.1134700/1.2.845.113682.2750824501.1545287558.4661.130833/1.2.826.0.1.3680043.8.498.47732203502109542379863372984797251601.dcm</td>\n",
       "      <td>1</td>\n",
       "      <td>[['1']]</td>\n",
       "      <td>[[[3, 0, 1110, 624]]]</td>\n",
       "      <td>[[[3, 2704, 1110, 3328]]]</td>\n",
       "    </tr>\n",
       "  </tbody>\n",
       "</table>\n",
       "</div>"
      ],
      "text/plain": [
       "      Manufacturer ManufacturerModelName PatientSex   ProtocolName  \\\n",
       "95   HOLOGIC, Inc.    Selenia Dimensions          F         R CCNP   \n",
       "269  HOLOGIC, Inc.    Selenia Dimensions          F   R CC ComboHD   \n",
       "274  HOLOGIC, Inc.    Selenia Dimensions          F  R MLO ComboHD   \n",
       "275  HOLOGIC, Inc.    Selenia Dimensions          F  L MLO ComboHD   \n",
       "276  HOLOGIC, Inc.    Selenia Dimensions          F  L MLO ComboHD   \n",
       "\n",
       "    SeriesDescription  SeriesNumber  SeriesTime  \\\n",
       "95               R CC      71100000    143714.0   \n",
       "269              R CC      71300000    140934.0   \n",
       "274             R MLO      71300000    141247.0   \n",
       "275      L MLO C-View      71300000    141601.0   \n",
       "276             L MLO      71300000    141601.0   \n",
       "\n",
       "                             StudyDescription           StudyID ViewPosition  \\\n",
       "95   MG Screen Bilat w/Tomo/CAD Stnd Protocol  MG Screening Dig           CC   \n",
       "269  MG Screen Bilat w/Tomo/CAD Stnd Protocol   MG Screen Bilat           CC   \n",
       "274  MG Screen Bilat w/Tomo/CAD Stnd Protocol   MG Screen Bilat          MLO   \n",
       "275  MG Screen Bilat w/Tomo/CAD Stnd Protocol   MG Screen Bilat          MLO   \n",
       "276  MG Screen Bilat w/Tomo/CAD Stnd Protocol   MG Screen Bilat          MLO   \n",
       "\n",
       "    WindowCenter WindowWidth VOILUTFunction WindowCenterWidthExplanation  \\\n",
       "95        2047.0      4096.0            NaN                          NaN   \n",
       "269       2047.0      4096.0            NaN                          NaN   \n",
       "274       2047.0      4096.0            NaN                          NaN   \n",
       "275        540.0       580.0            NaN                          NaN   \n",
       "276       2047.0      4096.0            NaN                          NaN   \n",
       "\n",
       "     empi_anon          acc_anon      study_date_anon  cohort_num  \\\n",
       "95    27942877  4378856307268605  2015-04-16 00:00:00           1   \n",
       "269   49677506  8010398258948596  2018-08-05 00:00:00           1   \n",
       "274   49677506  8010398258948596  2018-08-05 00:00:00           1   \n",
       "275   49677506  8010398258948596  2018-08-05 00:00:00           1   \n",
       "276   49677506  8010398258948596  2018-08-05 00:00:00           1   \n",
       "\n",
       "    ImageLateralityFinal FinalImageType  spot_mag pred_spot_mag_type  \\\n",
       "95                     R             2D       NaN                NaN   \n",
       "269                    R             2D       NaN                NaN   \n",
       "274                    R             2D       NaN                NaN   \n",
       "275                    L          cview       NaN                NaN   \n",
       "276                    L             2D       NaN                NaN   \n",
       "\n",
       "    spot_mag_png_path  \\\n",
       "95                NaN   \n",
       "269               NaN   \n",
       "274               NaN   \n",
       "275               NaN   \n",
       "276               NaN   \n",
       "\n",
       "                                                                                                                                                                                               png_path  \\\n",
       "95   png_images/cohort_1/673a142b63ff991f901e26ecf6483aa2f4bad72a2676dd866ed1a38c/821299aae48ba91edbc49170dfb2b62c8c064212000cd1be705a4483/0b7da4b31b9275499b613b3fb890a0690fbb81e25a57cce84801bdcb.png   \n",
       "269  png_images/cohort_1/211816395915b6373a8d62c581282ca7ff26fb2188c45aad2496b6d3/3e442cf88f79bc821cfc5cf43a09fd7fde72dcc2fa978fb2ea490e9a/647001b80f1bb8a6a9dda874545cec882a0b5df86efac804f734723e.png   \n",
       "274  png_images/cohort_1/211816395915b6373a8d62c581282ca7ff26fb2188c45aad2496b6d3/3e442cf88f79bc821cfc5cf43a09fd7fde72dcc2fa978fb2ea490e9a/68d4e75ecb95e3dfbf3915f12a4eedd10fe1877a6ac8f77d0399663b.png   \n",
       "275  png_images/cohort_1/211816395915b6373a8d62c581282ca7ff26fb2188c45aad2496b6d3/3e442cf88f79bc821cfc5cf43a09fd7fde72dcc2fa978fb2ea490e9a/e168e7fb321a55bbc0a0b839b0ac1da9d06626051577d24621a4685f.png   \n",
       "276  png_images/cohort_1/211816395915b6373a8d62c581282ca7ff26fb2188c45aad2496b6d3/3e442cf88f79bc821cfc5cf43a09fd7fde72dcc2fa978fb2ea490e9a/36203bb4d55f2b1e35865927da7af1e2fd4fe061c8973805a955cde0.png   \n",
       "\n",
       "                                                                                                                                                                                      anon_dicom_path  \\\n",
       "95       images/cohort_1/27942877/1.2.841.113978.3.62.1.51858730.20151011.1140957/1.2.845.113681.2750851777.1444028945.5427.5841/1.2.826.0.1.3680043.8.498.34608297224893310603161072463919077365.dcm   \n",
       "269    images/cohort_1/49677506/1.2.840.113971.3.61.1.58379970.20181222.1134700/1.2.849.113689.2750824503.1545287557.4658.130845/1.2.826.0.1.3680043.8.498.13280973993930913252605180204422965155.dcm   \n",
       "274    images/cohort_1/49677506/1.2.840.113971.3.61.1.58379970.20181222.1134700/1.2.848.113688.2750824503.1545287560.4653.130868/1.2.826.0.1.3680043.8.498.21419879400540352363681436133028226505.dcm   \n",
       "275  images/cohort_1/49677506/1.2.840.113971.3.61.1.58379970.20181222.1134700/1.2.848.113684.2750824503.1545287557.4658.130841.1/1.2.826.0.1.3680043.8.498.26423713590434578534969018531762460178.dcm   \n",
       "276    images/cohort_1/49677506/1.2.840.113971.3.61.1.58379970.20181222.1134700/1.2.845.113682.2750824501.1545287558.4661.130833/1.2.826.0.1.3680043.8.498.47732203502109542379863372984797251601.dcm   \n",
       "\n",
       "     num_roi ROI_match_level               PNG_ROI_coords  \\\n",
       "95         1         [['1']]  [[[1165, 822, 1294, 1000]]]   \n",
       "269        1         [['1']]    [[[2678, 16, 2931, 313]]]   \n",
       "274        1         [['1']]     [[[2768, 0, 3065, 280]]]   \n",
       "275        1         [['2']]         [[[2, 0, 666, 374]]]   \n",
       "276        1         [['1']]        [[[3, 0, 1110, 624]]]   \n",
       "\n",
       "                   DCM_ROI_coords  \n",
       "95   [[[1165, 1560, 1294, 1738]]]  \n",
       "269     [[[2678, 16, 2931, 313]]]  \n",
       "274      [[[2768, 0, 3065, 280]]]  \n",
       "275      [[[2, 1622, 666, 1996]]]  \n",
       "276     [[[3, 2704, 1110, 3328]]]  "
      ]
     },
     "execution_count": 11,
     "metadata": {},
     "output_type": "execute_result"
    }
   ],
   "source": [
    "legend_with_rois.head()"
   ]
  },
  {
   "cell_type": "code",
   "execution_count": 13,
   "id": "b6702490",
   "metadata": {},
   "outputs": [
    {
     "data": {
      "text/plain": [
       "'png_images/cohort_1/673a142b63ff991f901e26ecf6483aa2f4bad72a2676dd866ed1a38c/821299aae48ba91edbc49170dfb2b62c8c064212000cd1be705a4483/0b7da4b31b9275499b613b3fb890a0690fbb81e25a57cce84801bdcb.png'"
      ]
     },
     "execution_count": 13,
     "metadata": {},
     "output_type": "execute_result"
    }
   ],
   "source": [
    "legend_with_rois.iloc[0]['png_path']"
   ]
  },
  {
   "cell_type": "code",
   "execution_count": 19,
   "id": "100b1196",
   "metadata": {},
   "outputs": [],
   "source": [
    "roi = legend_with_rois.iloc[0]['PNG_ROI_coords']"
   ]
  },
  {
   "cell_type": "code",
   "execution_count": 15,
   "id": "8ce65f5f",
   "metadata": {},
   "outputs": [
    {
     "data": {
      "text/plain": [
       "['Manufacturer',\n",
       " 'ManufacturerModelName',\n",
       " 'PatientSex',\n",
       " 'ProtocolName',\n",
       " 'SeriesDescription',\n",
       " 'SeriesNumber',\n",
       " 'SeriesTime',\n",
       " 'StudyDescription',\n",
       " 'StudyID',\n",
       " 'ViewPosition',\n",
       " 'WindowCenter',\n",
       " 'WindowWidth',\n",
       " 'VOILUTFunction',\n",
       " 'WindowCenterWidthExplanation',\n",
       " 'empi_anon',\n",
       " 'acc_anon',\n",
       " 'study_date_anon',\n",
       " 'cohort_num',\n",
       " 'ImageLateralityFinal',\n",
       " 'FinalImageType',\n",
       " 'spot_mag',\n",
       " 'pred_spot_mag_type',\n",
       " 'spot_mag_png_path',\n",
       " 'png_path',\n",
       " 'anon_dicom_path',\n",
       " 'num_roi',\n",
       " 'ROI_match_level',\n",
       " 'PNG_ROI_coords',\n",
       " 'DCM_ROI_coords']"
      ]
     },
     "execution_count": 15,
     "metadata": {},
     "output_type": "execute_result"
    }
   ],
   "source": [
    "[col for col in legend_with_rois.columns]"
   ]
  },
  {
   "cell_type": "code",
   "execution_count": 29,
   "id": "36241b3b",
   "metadata": {},
   "outputs": [],
   "source": [
    "import cv2"
   ]
  },
  {
   "cell_type": "code",
   "execution_count": 17,
   "id": "f43409a4",
   "metadata": {},
   "outputs": [],
   "source": [
    "import ast"
   ]
  },
  {
   "cell_type": "code",
   "execution_count": 30,
   "id": "e11ad645",
   "metadata": {},
   "outputs": [],
   "source": [
    "image = cv2.imread('./d6c05610ae6e325eda3011bb316a75414187dc026ff1a1da6d124cda.png')"
   ]
  },
  {
   "cell_type": "code",
   "execution_count": 31,
   "id": "06460c33",
   "metadata": {},
   "outputs": [
    {
     "data": {
      "text/plain": [
       "(3328, 2560, 3)"
      ]
     },
     "execution_count": 31,
     "metadata": {},
     "output_type": "execute_result"
    }
   ],
   "source": [
    "image.shape"
   ]
  },
  {
   "cell_type": "code",
   "execution_count": 12,
   "id": "33c0699d",
   "metadata": {},
   "outputs": [],
   "source": [
    "roi = legend_with_rois.iloc[0]['PNG_ROI_coords']"
   ]
  },
  {
   "cell_type": "code",
   "execution_count": 20,
   "id": "bd884b43",
   "metadata": {},
   "outputs": [],
   "source": [
    "roi_coords_tuple = ast.literal_eval(roi)[0][0]"
   ]
  },
  {
   "cell_type": "code",
   "execution_count": 28,
   "id": "42005a6c",
   "metadata": {},
   "outputs": [],
   "source": [
    "with open('test.txt', 'w') as f:\n",
    "    f.write(str(roi_coords_tuple).replace(\",\", \"\")[1:-1])"
   ]
  },
  {
   "cell_type": "code",
   "execution_count": 23,
   "id": "fea7f0a8",
   "metadata": {},
   "outputs": [
    {
     "data": {
      "text/plain": [
       "[1165, 822, 1294, 1000]"
      ]
     },
     "execution_count": 23,
     "metadata": {},
     "output_type": "execute_result"
    }
   ],
   "source": [
    "roi_coords_tuple"
   ]
  },
  {
   "cell_type": "code",
   "execution_count": null,
   "id": "b466cbd1",
   "metadata": {},
   "outputs": [
    {
     "data": {
      "text/plain": [
       "<matplotlib.image.AxesImage at 0x31d3db4d0>"
      ]
     },
     "execution_count": 16,
     "metadata": {},
     "output_type": "execute_result"
    },
    {
     "data": {
      "image/png": "[encoded data removed]",
      "text/plain": [
       "<Figure size 640x480 with 1 Axes>"
      ]
     },
     "metadata": {},
     "output_type": "display_data"
    }
   ],
   "source": [
    "import matplotlib.pyplot as plt\n",
    "\n",
    "cv2.rectangle(image, (roi_coords_tuple[1], roi_coords_tuple[0]), (roi_coords_tuple[3], roi_coords_tuple[2]), (255, 0, 0), 3)\n",
    "plt.imshow(image)"
   ]
  },
  {
   "cell_type": "code",
   "execution_count": 14,
   "id": "bae1442a",
   "metadata": {},
   "outputs": [
    {
     "data": {
      "text/plain": [
       "480323"
      ]
     },
     "execution_count": 14,
     "metadata": {},
     "output_type": "execute_result"
    }
   ],
   "source": [
    "len(legend)"
   ]
  },
  {
   "cell_type": "code",
   "execution_count": 9,
   "id": "6cd683b0",
   "metadata": {},
   "outputs": [
    {
     "data": {
      "text/plain": [
       "Header in export                                                                                 sprocs\n",
       "Discription         Procedure code for the exam. (may have side next to code, ie: '-L' or '-R' or '-B')\n",
       "Code                                                                                               1738\n",
       "Meaning                                              MG CT Breast w/wo Chemo Rt                        \n",
       "Name: 2, dtype: object"
      ]
     },
     "execution_count": 9,
     "metadata": {},
     "output_type": "execute_result"
    }
   ],
   "source": [
    "legend.iloc[2]"
   ]
  }
 ],
 "metadata": {
  "kernelspec": {
   "display_name": "venv",
   "language": "python",
   "name": "python3"
  },
  "language_info": {
   "codemirror_mode": {
    "name": "ipython",
    "version": 3
   },
   "file_extension": ".py",
   "mimetype": "text/x-python",
   "name": "python",
   "nbconvert_exporter": "python",
   "pygments_lexer": "ipython3",
   "version": "3.13.2"
  }
 },
 "nbformat": 4,
 "nbformat_minor": 5
}
